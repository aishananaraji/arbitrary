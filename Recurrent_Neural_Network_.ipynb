{
  "nbformat": 4,
  "nbformat_minor": 0,
  "metadata": {
    "colab": {
      "provenance": [],
      "authorship_tag": "ABX9TyPTb02EUxRh2A9ownGjd/Mj",
      "include_colab_link": true
    },
    "kernelspec": {
      "name": "python3",
      "display_name": "Python 3"
    },
    "language_info": {
      "name": "python"
    }
  },
  "cells": [
    {
      "cell_type": "markdown",
      "metadata": {
        "id": "view-in-github",
        "colab_type": "text"
      },
      "source": [
        "<a href=\"https://colab.research.google.com/github/aishananaraji/arbitrary/blob/main/Recurrent_Neural_Network_.ipynb\" target=\"_parent\"><img src=\"https://colab.research.google.com/assets/colab-badge.svg\" alt=\"Open In Colab\"/></a>"
      ]
    },
    {
      "cell_type": "markdown",
      "source": [
        "##PROBLEM 1"
      ],
      "metadata": {
        "id": "n4yaDGk4zgTp"
      }
    },
    {
      "cell_type": "code",
      "execution_count": null,
      "metadata": {
        "id": "O0q-rdsCwm9W"
      },
      "outputs": [],
      "source": [
        "import numpy as np"
      ]
    },
    {
      "cell_type": "code",
      "source": [
        "def forward(x,h):\n",
        "    for n in range(n_sequences):\n",
        "        h = np.tanh(x[:, n, :] @ w_x + h @ w_h + b)\n",
        "    return h\n"
      ],
      "metadata": {
        "id": "1znEcT11yDay"
      },
      "execution_count": null,
      "outputs": []
    },
    {
      "cell_type": "markdown",
      "source": [
        "##PROBLEM 2"
      ],
      "metadata": {
        "id": "Ok1kBbDdz9p8"
      }
    },
    {
      "cell_type": "code",
      "source": [
        "x = np.array([[[1, 2], [2, 3], [3, 4]]])/100 # (batch_size, n_sequences, n_features)\n",
        "w_x = np.array([[1, 3, 5, 7], [3, 5, 7, 8]])/100 # (n_features, n_nodes)\n",
        "w_h = np.array([[1, 3, 5, 7], [2, 4, 6, 8], [3, 5, 7, 8], [4, 6, 8, 10]])/100 # (n_nodes, n_nodes)\n",
        "batch_size = x.shape[0] # 1\n",
        "n_sequences = x.shape[1] # 3\n",
        "n_features = x.shape[2] # 2\n",
        "n_nodes = w_x.shape[1] # 4\n",
        "h = np.zeros((batch_size, n_nodes)) # (batch_size, n_nodes)\n",
        "b = np.array([1, 1, 1, 1]) # (n_nodes,)"
      ],
      "metadata": {
        "id": "sxi0yrVYyDui"
      },
      "execution_count": null,
      "outputs": []
    },
    {
      "cell_type": "code",
      "source": [
        "forward(x,h)"
      ],
      "metadata": {
        "id": "5vEUAIqb0QTE",
        "colab": {
          "base_uri": "https://localhost:8080/"
        },
        "outputId": "975c0b0e-ac14-4050-8263-e08026308703"
      },
      "execution_count": null,
      "outputs": [
        {
          "output_type": "execute_result",
          "data": {
            "text/plain": [
              "array([[0.79494228, 0.81839002, 0.83939649, 0.85584174]])"
            ]
          },
          "metadata": {},
          "execution_count": 4
        }
      ]
    },
    {
      "cell_type": "markdown",
      "source": [
        "##PROBLEM 3"
      ],
      "metadata": {
        "id": "C0-aXKu70Rx0"
      }
    },
    {
      "cell_type": "code",
      "source": [
        "class SimpleInitializer:\n",
        "\n",
        "    def __init__(self, sigma):\n",
        "        self.sigma = sigma\n",
        "    def W(self, n_nodes1, n_nodes2):\n",
        "        W = self.sigma * np.random.randn(n_nodes1, n_nodes2)\n",
        "        return W\n",
        "    def B(self, n_nodes2):\n",
        "        B = self.sigma * np.random.randn(1, n_nodes2)\n",
        "        return B"
      ],
      "metadata": {
        "id": "BhNgaAC00Xyh"
      },
      "execution_count": null,
      "outputs": []
    },
    {
      "cell_type": "code",
      "source": [
        "class SGD:\n",
        "\n",
        "    def __init__(self, lr):\n",
        "        self.lr = lr\n",
        "    def update(self, layer):\n",
        "        layer.W_x-= self.lr * layer.dWx\n",
        "        layer.W_h-= self.lr * layer.dWh\n",
        "        layer.B -= self.lr + layer.dB\n",
        "        return layer\n"
      ],
      "metadata": {
        "id": "zeCx-dtx0Y_H"
      },
      "execution_count": null,
      "outputs": []
    },
    {
      "cell_type": "code",
      "source": [
        "class Tanh:\n",
        "    def forward(self, A):\n",
        "        self.A = A\n",
        "        Z = np.tanh(self.A)\n",
        "        return Z\n",
        "    def backward (self, dZ):\n",
        "        dA = dZ * (1-np.tanh(self.A)**2)\n",
        "        return dA\n"
      ],
      "metadata": {
        "id": "aG4nMPMh0ZFe"
      },
      "execution_count": null,
      "outputs": []
    },
    {
      "cell_type": "code",
      "source": [
        "class ScratchDeepNeuralNetworkClassifier():\n",
        "    def __init__(self):\n",
        "        self.Wx = np.array([[1, 3, 5, 7], [3, 5, 7, 8]])/100 # (n_features, n_nodes)\n",
        "        self.Wh = np.array([[1, 3, 5, 7], [2, 4, 6, 8], [3, 5, 7, 8], [4, 6, 8, 10]])/100 # (n_nodes, n_nodes)\n",
        "        self.b = np.array([1, 1, 1, 1]) # (n_nodes,)\n",
        "        self.db = 0\n",
        "        self.dwh =0\n",
        "        self.dwx =0\n",
        "        self.activator = Tanh()\n",
        "        self.optimizer = SGD(lr=0.001)\n",
        "        self.h_his =[]\n",
        "\n",
        "    def forward (self, X):\n",
        "      self.X = X\n",
        "      batch_size = X.shape[0] # 1\n",
        "      n_sequences = X.shape[1] # 3\n",
        "      n_features = X.shape[2] # 2\n",
        "      n_nodes = self.Wx.shape[1] # 4\n",
        "      h= np.zeros((batch_size, n_nodes)) # (batch_size, n_nodes)\n",
        "      for n in range(n_sequences):\n",
        "        A=x[:, n, :] @ self.Wx + h @ self.Wh + self.b\n",
        "        h = self.activator.forward(A)\n",
        "        self.h_his.append(h)\n",
        "      return h\n",
        "    def backward(self, dh):\n",
        "      dA = self.activator.backward(dh)\n",
        "      for n in range(self.n_features)[::-1]:\n",
        "        self.db+=np.sum(dA, axis=0)\n",
        "        self.dwx+=x[:,n, :].T @ dA\n",
        "        self.dwh+=h[n].T @ dA\n",
        "\n",
        "\n",
        "        dx= dA @ Wx\n",
        "        dh= dA @ Wh\n",
        "      return dx, dh\n"
      ],
      "metadata": {
        "id": "0gTExHES0ZNB"
      },
      "execution_count": null,
      "outputs": []
    },
    {
      "cell_type": "code",
      "source": [
        "test = ScratchDeepNeuralNetworkClassifier()\n",
        "test.forward(x)"
      ],
      "metadata": {
        "id": "Yhvm0how0qEr",
        "colab": {
          "base_uri": "https://localhost:8080/"
        },
        "outputId": "4823b8d2-baf3-4211-f583-c20b89d9d893"
      },
      "execution_count": null,
      "outputs": [
        {
          "output_type": "execute_result",
          "data": {
            "text/plain": [
              "array([[0.79494228, 0.81839002, 0.83939649, 0.85584174]])"
            ]
          },
          "metadata": {},
          "execution_count": 10
        }
      ]
    }
  ]
}