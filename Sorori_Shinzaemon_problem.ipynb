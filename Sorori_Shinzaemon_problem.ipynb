{
  "nbformat": 4,
  "nbformat_minor": 0,
  "metadata": {
    "colab": {
      "provenance": [],
      "authorship_tag": "ABX9TyNljxjoocSajdSTUiKMIRj9",
      "include_colab_link": true
    },
    "kernelspec": {
      "name": "python3",
      "display_name": "Python 3"
    },
    "language_info": {
      "name": "python"
    }
  },
  "cells": [
    {
      "cell_type": "markdown",
      "metadata": {
        "id": "view-in-github",
        "colab_type": "text"
      },
      "source": [
        "<a href=\"https://colab.research.google.com/github/aishananaraji/arbitrary/blob/main/Sorori_Shinzaemon_problem.ipynb\" target=\"_parent\"><img src=\"https://colab.research.google.com/assets/colab-badge.svg\" alt=\"Open In Colab\"/></a>"
      ]
    },
    {
      "cell_type": "markdown",
      "source": [
        "**PROBLEM 1**"
      ],
      "metadata": {
        "id": "Vme-u3PLQhe8"
      }
    },
    {
      "cell_type": "code",
      "source": [
        "grain = 1\n",
        "grains_per_day = []\n",
        "for day in range(100):\n",
        "  if day <= 0:\n",
        "    grains_per_day.append(grain)\n",
        "  else:\n",
        "    grains_per_day.append((grain *2)**day)"
      ],
      "metadata": {
        "id": "_RozIjRtQ00s"
      },
      "execution_count": null,
      "outputs": []
    },
    {
      "cell_type": "code",
      "source": [
        "print(\"The total rice grains after 100 days: \", sum(grains_per_day))"
      ],
      "metadata": {
        "colab": {
          "base_uri": "https://localhost:8080/"
        },
        "id": "FZUa-lE2kgO2",
        "outputId": "d1924324-60ff-4cc6-bb8d-ebf3bfd757ae"
      },
      "execution_count": null,
      "outputs": [
        {
          "output_type": "stream",
          "name": "stdout",
          "text": [
            "The total rice grains after 100 days:  1267650600228229401496703205375\n"
          ]
        }
      ]
    },
    {
      "cell_type": "code",
      "source": [
        "import matplotlib.pyplot as plt\n",
        "%matplotlib inline\n",
        "plt.title(\"Grains per day\")\n",
        "plt.xlabel(\"number of days\")\n",
        "plt.ylabel(\"number of rice grains\")\n",
        "plt.plot(grains_per_day)\n",
        "plt.show()"
      ],
      "metadata": {
        "colab": {
          "base_uri": "https://localhost:8080/",
          "height": 472
        },
        "id": "WhywCKgijLXg",
        "outputId": "55ff7e67-3f68-4ac9-b58c-441e2268161f"
      },
      "execution_count": null,
      "outputs": [
        {
          "output_type": "display_data",
          "data": {
            "text/plain": [
              "<Figure size 640x480 with 1 Axes>"
            ],
            "image/png": "[encoded data removed]"
          },
          "metadata": {}
        }
      ]
    },
    {
      "cell_type": "markdown",
      "source": [
        "**PROBLEM** **2**"
      ],
      "metadata": {
        "id": "2oi2OkJsjvCF"
      }
    },
    {
      "cell_type": "code",
      "source": [
        "def compute_grains_per_days(days=100):\n",
        " grain = 1\n",
        " grains_per_day = []\n",
        " for day in range(days):\n",
        "  if day <= 0:\n",
        "    grains_per_day.append(grain)\n",
        "  else:\n",
        "    grains_per_day.append((grain*2)**day)\n",
        " print(\"The total rice grains after\", sum(grains_per_day))"
      ],
      "metadata": {
        "id": "hMfr7-rEjUb8"
      },
      "execution_count": null,
      "outputs": []
    },
    {
      "cell_type": "code",
      "source": [
        "compute_grains_per_days(70)\n",
        "compute_grains_per_days(9)\n",
        "compute_grains_per_days(37)\n",
        "compute_grains_per_days(18)\n",
        "compute_grains_per_days(45)\n"
      ],
      "metadata": {
        "colab": {
          "base_uri": "https://localhost:8080/"
        },
        "id": "3JR_e8yIjapi",
        "outputId": "0ad0f341-7ebe-45bf-e799-facd6b1bead4"
      },
      "execution_count": null,
      "outputs": [
        {
          "output_type": "stream",
          "name": "stdout",
          "text": [
            "The total rice grains after 1180591620717411303423\n",
            "The total rice grains after 511\n",
            "The total rice grains after 137438953471\n",
            "The total rice grains after 262143\n",
            "The total rice grains after 35184372088831\n"
          ]
        }
      ]
    },
    {
      "cell_type": "markdown",
      "source": [
        "**PROBLEM 3**"
      ],
      "metadata": {
        "id": "9lbXNQwrj49m"
      }
    },
    {
      "cell_type": "code",
      "source": [
        "grains_in_plate = 18000\n",
        "grains_per_day = grains_in_plate*3\n",
        "\n",
        "def compute_how_many_days(people, grains):\n",
        "  total_grains_per_day = people*grains_per_day\n",
        "  number_of_days = grains/total_grains_per_day\n",
        "  print(\"they can live for\", number_of_days,\"days\")\n",
        "compute_how_many_days(150, 25000000)"
      ],
      "metadata": {
        "colab": {
          "base_uri": "https://localhost:8080/"
        },
        "id": "qUqmNx3zjlMG",
        "outputId": "c3a29316-1628-42c4-896b-fc7e48e6705f"
      },
      "execution_count": null,
      "outputs": [
        {
          "output_type": "stream",
          "name": "stdout",
          "text": [
            "they can live for 3.0864197530864197 days\n"
          ]
        }
      ]
    }
  ]
}