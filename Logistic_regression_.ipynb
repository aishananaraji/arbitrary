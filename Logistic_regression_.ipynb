{
  "nbformat": 4,
  "nbformat_minor": 0,
  "metadata": {
    "colab": {
      "provenance": [],
      "authorship_tag": "ABX9TyPR3WEEgJBjgHoNmmsDlLuc",
      "include_colab_link": true
    },
    "kernelspec": {
      "name": "python3",
      "display_name": "Python 3"
    },
    "language_info": {
      "name": "python"
    }
  },
  "cells": [
    {
      "cell_type": "markdown",
      "metadata": {
        "id": "view-in-github",
        "colab_type": "text"
      },
      "source": [
        "<a href=\"https://colab.research.google.com/github/aishananaraji/arbitrary/blob/main/Logistic_regression_.ipynb\" target=\"_parent\"><img src=\"https://colab.research.google.com/assets/colab-badge.svg\" alt=\"Open In Colab\"/></a>"
      ]
    },
    {
      "cell_type": "code",
      "source": [
        "import numpy as np\n",
        "import matplotlib.pyplot as plt\n",
        "%matplotlib inline\n",
        "import pandas as pd\n",
        "\n",
        "from sklearn.datasets import load_iris\n",
        "from sklearn import datasets\n",
        "\n",
        "iris = datasets.load_iris()"
      ],
      "metadata": {
        "id": "UD_Y--igvUnW"
      },
      "execution_count": null,
      "outputs": []
    },
    {
      "cell_type": "markdown",
      "source": [
        "Problem 1"
      ],
      "metadata": {
        "id": "Wz1DhacdEDye"
      }
    },
    {
      "cell_type": "code",
      "source": [
        "def _sigmoid(self,y):\n",
        "    return 1/(1 + np.exp(-y))\n",
        "\n",
        "def _logistic_hypothesis(self, X):\n",
        "    pred = 1 * self.theta\n",
        "    pred * self._sigmoid(pred)\n",
        "    return pred"
      ],
      "metadata": {
        "id": "6G3hvvLEXr7j"
      },
      "execution_count": null,
      "outputs": []
    },
    {
      "cell_type": "markdown",
      "source": [
        "Problem 2"
      ],
      "metadata": {
        "id": "doIyZAC1EHAe"
      }
    },
    {
      "cell_type": "code",
      "source": [
        "def _gradient_descent(self, X, y):\n",
        "    m = X.shape[0]\n",
        "    n = X.shape[1]\n",
        "    pred = self._logistic_hypothesis(X)\n",
        "    for j in range(n):\n",
        "        gradient = 0\n",
        "        for i in range(m):\n",
        "            gradient += (pred[i] - y[i]) * X[i, j]\n",
        "        self.theta[j] = self.theta[j] - self.lr * ((gradient + self.lam * self.theta[j]) / m)"
      ],
      "metadata": {
        "id": "Plvy2Z3PI1d2"
      },
      "execution_count": null,
      "outputs": []
    },
    {
      "cell_type": "markdown",
      "source": [
        "Problem 3"
      ],
      "metadata": {
        "id": "BGj4ifxiEJR5"
      }
    },
    {
      "cell_type": "code",
      "source": [
        "def predict_proba(self, X):\n",
        "    if self.bias == True:\n",
        "        a = np.ones(X.shape[0]).reshape(X.shape[0], 1)\n",
        "        X = np.hstack([a,X])\n",
        "    pred = self._logistic_hypothesis(X)\n",
        "    return pred"
      ],
      "metadata": {
        "id": "EpnXf7g6PmCS"
      },
      "execution_count": null,
      "outputs": []
    },
    {
      "cell_type": "code",
      "source": [
        "def predict(self, X):\n",
        "     if self.bias == True:\n",
        "         a = np.ones(X.shape[0]).reshape(X.shape[0], 1)\n",
        "         X = np.hstack([a, X])\n",
        "     return np.where(self._logistic_hypothesis(X) >= 0.5, 1, 0)"
      ],
      "metadata": {
        "id": "5R3tQ-VqR3Sr"
      },
      "execution_count": null,
      "outputs": []
    },
    {
      "cell_type": "markdown",
      "source": [
        "Problem 4"
      ],
      "metadata": {
        "id": "7dioq0_LELy3"
      }
    },
    {
      "cell_type": "code",
      "source": [
        "def _loss_func(self, pred, y):\n",
        "     error = 0\n",
        "     for i in range(y.shape[0]):\n",
        "         error += -np.sum(y[i] * np.log(pred[i])+(1-y[i]) * np.log(1-pred[i]))\n",
        "     loss = error / (y.shape[0])\n",
        "     loss = loss + np.sum(self.theta**2)*self.lam/(2 * y.shape[0])\n",
        "     return loss"
      ],
      "metadata": {
        "id": "i9-U0Xo14Zzd"
      },
      "execution_count": null,
      "outputs": []
    },
    {
      "cell_type": "markdown",
      "source": [
        "problem 5"
      ],
      "metadata": {
        "id": "kAur4PIgEwvQ"
      }
    },
    {
      "cell_type": "code",
      "source": [
        "def fit (self, x, y, x_val, y_val):\n",
        "  if self.bais ** true:\n",
        "    bias = np.ones((x.shape[0], 1))\n",
        "    x= np.hstack((bias, x))\n",
        "\n",
        "    bias = np.ones((x_val.shape[0], 1))\n",
        "\n",
        "    x_val = np.hstack((bias, x_val))\n",
        "\n",
        "    self.theta = np.zero(x.shape[1])\n",
        "    self.theta = self.theta.reshape(x.shape[1], 1)\n",
        "\n",
        "    for i in range(self.num_iter):\n",
        "      pred = Self._Logistic_hypothesis(x)\n",
        "      pred_val = Self._Logistic_hypothesis(x_val)\n",
        "\n",
        "      self._gradient_descent(x, y)\n",
        "\n",
        "      loss = self._loss_func(pred, y)\n",
        "      self.loss = np.append(self.loss, loss)\n",
        "\n",
        "      loss_val = self._loss_fuc(pred_val, y_val)\n",
        "\n",
        "      self.val_loss = np.append(self.val_loss, loss_val)\n",
        "\n",
        "      if verbose == True:\n",
        "        print('{}The learning loss for the fist round is{}'.format(i, loss))"
      ],
      "metadata": {
        "id": "K1X7Y3UWA16Z"
      },
      "execution_count": null,
      "outputs": []
    },
    {
      "cell_type": "markdown",
      "source": [
        "#Iris Dataset"
      ],
      "metadata": {
        "id": "PjOPlZakEQtC"
      }
    },
    {
      "cell_type": "code",
      "source": [
        "class ScratchLogisticRegression1():\n",
        "   def __init__(self, num_iter, lr, bias, verbose, lam):\n",
        "       self.num_iter = num_iter\n",
        "       self.lr = lr\n",
        "       self.bias = bias\n",
        "       self.verbose = verbose\n",
        "       self.lam = lam\n",
        "       self.theta = np.array([])\n",
        "       self.loss = np.array([])\n",
        "       self.val_loss = np.array([])\n",
        "\n",
        "   def fit(self, X, y, X_val, y_val):\n",
        "\n",
        "       if self.bias == True:\n",
        "           bias = np.ones((X.shape[0], 1))\n",
        "           X = np.hstack((bias, X))\n",
        "\n",
        "           bias = np.ones((X_val.shape[0], 1))\n",
        "\n",
        "           X_val = np.hstack((bias, X_val))\n",
        "\n",
        "       self.theta = np.zeros(X.shape[1])\n",
        "       self.theta = self.theta.reshape(X.shape[1], 1)\n",
        "\n",
        "       for i in range(self.num_iter):\n",
        "           pred = self._logistic_hypothesis(X)\n",
        "           pred_val = self._logistic_hypothesis(X_val)\n",
        "\n",
        "           self._gradient_descent(X, y)\n",
        "\n",
        "           loss = self._loss_func(pred, y)\n",
        "           self.loss =  np.append(self.loss, loss)\n",
        "\n",
        "           loss_val = self._loss_func(pred_val, y_val)\n",
        "\n",
        "           self.val_loss = np.append(self.val_loss, loss_val)\n",
        "\n",
        "           if self.verbose == True:\n",
        "               print('{} The learning loss for the first round is{}'.format(i,loss))\n",
        "\n",
        "   def _gradient_descent(self, X, y):\n",
        "       m = X.shape[0]\n",
        "       n = X.shape[1]\n",
        "       pred = self._logistic_hypothesis(X)\n",
        "       for j in range(n):\n",
        "           gradient = 0\n",
        "           for i in range(m):\n",
        "               gradient += (pred[i] - y[i]) * X[i, j]\n",
        "           self.theta[j] = self.theta[j] - self.lr * ((gradient + self.lam * self.theta[j]) / m)\n",
        "\n",
        "   def _sigmoid(self,y):\n",
        "       return 1 / (1 + np.exp(-y))\n",
        "\n",
        "   def _logistic_hypothesis(self, X):\n",
        "       pred = X @ self.theta\n",
        "       pred = self._sigmoid(pred)\n",
        "       return pred\n",
        "\n",
        "   def predict(self, X):\n",
        "       if self.bias == True:\n",
        "           a = np.ones(X.shapes[0]).reshape(X.shape[0], 1)\n",
        "           X = np.hstack([a, X])\n",
        "       return np.where(self._logistic_hypothesis(X) >= 0.5, 1, 0)\n",
        "\n",
        "   def predict_proba(self, X):\n",
        "       if self.bias == True:\n",
        "           a = np.ones(X.shapes[0]).reshape(X.shape[0], 1)\n",
        "           X = np.hstack([a, X])\n",
        "       pred = self._logistic_hypothesis(X)\n",
        "       return pred\n",
        "\n",
        "   def _loss_func(self, pred, y):\n",
        "       error = 0\n",
        "       for i in range(y.shape[0]):\n",
        "           error += -np.sum(y[i] * np.log(pred[i])+(1-y[i]) * np.log(1-pred[i]))\n",
        "       loss = error / (y.shape[0])\n",
        "       loss = loss + np.sum(self.theta**2)*self.lam/(2 * y.shape[0])\n",
        "       return loss"
      ],
      "metadata": {
        "id": "ZgG9uAXz_0vH"
      },
      "execution_count": null,
      "outputs": []
    },
    {
      "cell_type": "code",
      "source": [
        "class ScratchLogisticRegression():\n",
        "\n",
        "     def __init__(self, num_iter=100, lr=0.01, bias=False, verbose=False):\n",
        "         self.iter = num_iter\n",
        "         self.lr = lr\n",
        "         self.bias = bias\n",
        "         self.verbose = verbose\n",
        "         self.lamda = 1/0.01\n",
        "         self.loss = np.zeros(self.iter)\n",
        "         self.val_loss = np.zeros(self.iter)\n",
        "\n",
        "     def _check_for_bias(self,X):\n",
        "         if self.bias == True:\n",
        "             x1 = np.ones(X.shape[0])\n",
        "         else:\n",
        "             x1 = np.zeros(X.shape[0])\n",
        "\n",
        "         return np.concatenate([x1.reshape(-1,1),X], axis=1)\n",
        "\n",
        "\n",
        "      # Problem 1\n",
        "\n",
        "     def _sigmoid_function(self,X):\n",
        "         linear_model = np.dot(X,self.theta)\n",
        "\n",
        "         return 1/(1 + np.exp(-linear_model))\n",
        "\n",
        "     def _gradient_descent(self, X, error):\n",
        "         self.tmp = np.append(0,np.ones(X.shape[1]-1))\n",
        "         self.theta -= self.lr*(np.dot(error,X) + self.tmp*self.lamda*self.theta)/len(X)\n",
        "\n",
        "# Problem 4\n",
        "\n",
        "     def _loss_function(self, y, y_pred):\n",
        "         return np.mean(-y*np.log(y_pred) -(1-y)*np.log(1-y_pred))+0.5*self.lamda*np.mean(self.theta[1:]**2)\n",
        "\n",
        "     def fit(self, X, y, X_val = False, y_val=False):\n",
        "\n",
        "         self.ylabel = np.unique(y)\n",
        "\n",
        "         y = np.where(y==self.ylabel[0], 0, 1)\n",
        "\n",
        "         if (type(y_val) != bool):\n",
        "             y_val = np.where(y_val==self.ylabel[0],0,1)\n",
        "\n",
        "             X = self._check_for_bias(X)\n",
        "\n",
        "         self.theta = np.random.rand(X.shape[1])\n",
        "\n",
        "         for i in range(self.iter):\n",
        "             y_pred = self._sigmoid_function(X)\n",
        "             error = y_pred - y\n",
        "             self.loss[i] = self._loss_function(y,y_pred)\n",
        "\n",
        "             if (type(X_val) != bool):\n",
        "                 val_X = self._check_for_bias(X_val)\n",
        "                 val_ypred = self._sigmoid_function(val_X)\n",
        "\n",
        "                 self.val_loss[i] = self._loss_function(y_val,val_ypred)\n",
        "\n",
        "             self._gradient_descent(X, error)\n",
        "\n",
        "             if self.verbose:\n",
        "               print('n_inter:', i, 'loss:', self.loss[i], 'theta', self.theta)\n",
        "\n",
        "\n",
        "         np.save('theta', self.theta)\n",
        "\n",
        "\n",
        "     def predict(self, X):\n",
        "         X = self._check_for_bias(X)\n",
        "         y_pred = self._sigmoid_function(X)\n",
        "\n",
        "         return np.where(y_pred<0.5, self.ylabel[0], self.ylabel[1])\n",
        "\n",
        "     def predict_proba(self, X):\n",
        "         X = self._check_for_bias(X)\n",
        "         return self._sigmoid_function(X)"
      ],
      "metadata": {
        "id": "UPUlikHaPmjh"
      },
      "execution_count": null,
      "outputs": []
    },
    {
      "cell_type": "code",
      "source": [
        "from sklearn.model_selection import train_test_split\n",
        "import numpy as np\n",
        "import pandas as pd\n",
        "from sklearn.datasets import load_iris\n",
        "\n",
        "iris = load_iris()\n",
        "X = iris.data[:100, :]\n",
        "y = iris.target[:100]\n",
        "(X_train, X_test,  y_train, y_test) = train_test_split(X, y, test_size=0.2)"
      ],
      "metadata": {
        "id": "4B2PCz5-SfbX"
      },
      "execution_count": null,
      "outputs": []
    },
    {
      "cell_type": "code",
      "source": [
        "slr = ScratchLogisticRegression(num_iter=50, lr=0.01, bias=True, verbose=True)\n",
        "slr.fit(X_train, y_train, X_test, y_test)"
      ],
      "metadata": {
        "id": "Oaz7BHocsMkm",
        "colab": {
          "base_uri": "https://localhost:8080/"
        },
        "outputId": "aeb27b20-cd72-439b-89bf-03771f27b43e"
      },
      "execution_count": null,
      "outputs": [
        {
          "output_type": "stream",
          "name": "stdout",
          "text": [
            "n_inter: 0 loss: 36.85391677149521 theta [0.53953129 0.49463816 0.86508935 0.97577364 0.73772535]\n",
            "n_inter: 1 loss: 34.97941135555165 theta [0.53440963 0.46298383 0.83686137 0.95611898 0.72730464]\n",
            "n_inter: 2 loss: 33.18620019214896 theta [0.52928905 0.43173045 0.80898972 0.93671166 0.71701448]\n",
            "n_inter: 3 loss: 31.471870381739027 theta [0.52416989 0.40087463 0.781471   0.91754912 0.70685333]\n",
            "n_inter: 4 loss: 29.83408379175818 theta [0.51905256 0.37041351 0.7543022  0.89862897 0.6968197 ]\n",
            "n_inter: 5 loss: 28.270577052639748 theta [0.51393764 0.34034489 0.72748072 0.87994906 0.68691215]\n",
            "n_inter: 6 loss: 26.779161849065048 theta [0.50882581 0.31066735 0.70100453 0.86150755 0.67712934]\n",
            "n_inter: 7 loss: 25.35772550829383 theta [0.50371799 0.28138048 0.67487223 0.84330291 0.66746995]\n",
            "n_inter: 8 loss: 24.004231869861467 theta [0.49861533 0.25248509 0.64908327 0.82533407 0.65793281]\n",
            "n_inter: 9 loss: 22.71672239387721 theta [0.49351928 0.22398356 0.6236381  0.80760052 0.64851685]\n",
            "n_inter: 10 loss: 21.493317425118565 theta [0.4884317  0.1958801  0.5985384  0.79010237 0.63922113]\n",
            "n_inter: 11 loss: 20.332217472804235 theta [0.48335487 0.1681813  0.5737874  0.7728406  0.6300449 ]\n",
            "n_inter: 12 loss: 19.231704286420022 theta [0.4782917  0.14089653 0.54939013 0.75581718 0.62098764]\n",
            "n_inter: 13 loss: 18.190141401264036 theta [0.47324577 0.11403859 0.52535386 0.73903535 0.61204907]\n",
            "n_inter: 14 loss: 17.205973689611678 theta [0.46822149 0.08762434 0.50168848 0.7224998  0.60322925]\n",
            "n_inter: 15 loss: 16.27772528420332 theta [0.46322425 0.06167549 0.47840698 0.70621705 0.59452862]\n",
            "n_inter: 16 loss: 15.403995047182125 theta [0.4582606  0.03621927 0.45552593 0.69019573 0.58594811]\n",
            "n_inter: 17 loss: 14.583448560050252 theta [0.45333836 0.01128929 0.43306588 0.67444692 0.57748917]\n",
            "n_inter: 18 loss: 13.814805450104888 theta [ 0.4484668  -0.0130739   0.41105182  0.65898448  0.56915392]\n",
            "n_inter: 19 loss: 13.09682081646073 theta [ 0.44365669 -0.03682224  0.38951338  0.64382537  0.5609452 ]\n",
            "n_inter: 20 loss: 12.428259676981737 theta [ 0.43892039 -0.05990014  0.36848485  0.62898981  0.55286664]\n",
            "n_inter: 21 loss: 11.807863853084 theta [ 0.43427169 -0.08224474  0.34800487  0.61450136  0.54492273]\n",
            "n_inter: 22 loss: 11.234311661848205 theta [ 0.4297257  -0.10378702  0.32811565  0.60038674  0.53711882]\n",
            "n_inter: 23 loss: 10.706172243198466 theta [ 0.42529843 -0.12445349  0.30886176  0.58667541  0.52946107]\n",
            "n_inter: 24 loss: 10.22185820361699 theta [ 0.42100634 -0.14416885  0.29028835  0.57339881  0.52195634]\n",
            "n_inter: 25 loss: 9.779582156312745 theta [ 0.41686561 -0.16285926  0.27243898  0.56058927  0.51461197]\n",
            "n_inter: 26 loss: 9.377324085150375 theta [ 0.41289147 -0.18045613  0.25535313  0.54827863  0.5074355 ]\n",
            "n_inter: 27 loss: 9.012816558454121 theta [ 0.40909741 -0.19690006  0.23906379  0.53649667  0.5004343 ]\n",
            "n_inter: 28 loss: 8.683553171013784 theta [ 0.40549446 -0.21214441  0.22359525  0.52526948  0.49361518]\n",
            "n_inter: 29 loss: 8.38682223938265 theta [ 0.40209069 -0.22615814  0.20896154  0.51461796  0.48698397]\n",
            "n_inter: 30 loss: 8.119763450527792 theta [ 0.39889083 -0.2389276   0.19516556  0.50455658  0.48054512]\n",
            "n_inter: 31 loss: 7.879441085621486 theta [ 0.39589624 -0.25045703  0.18219906  0.49509255  0.47430144]\n",
            "n_inter: 32 loss: 7.66292480102849 theta [ 0.39310497 -0.26076788  0.17004335  0.48622544  0.46825384]\n",
            "n_inter: 33 loss: 7.4673683932193935 theta [ 0.39051214 -0.26989717  0.15867066  0.47794741  0.46240133]\n",
            "n_inter: 34 loss: 7.290078390603195 theta [ 0.38811039 -0.27789506  0.14804576  0.47024368  0.45674105]\n",
            "n_inter: 35 loss: 7.128567007697888 theta [ 0.38589037 -0.28482203  0.1381279   0.46309352  0.45126844]\n",
            "n_inter: 36 loss: 6.980587074843167 theta [ 0.38384133 -0.29074599  0.12887263  0.45647135  0.4459775 ]\n",
            "n_inter: 37 loss: 6.844149280397733 theta [ 0.3819516  -0.29573946  0.12023347  0.45034799  0.44086108]\n",
            "n_inter: 38 loss: 6.717524011033513 theta [ 0.38020904 -0.29987709  0.11216342  0.44469181  0.43591121]\n",
            "n_inter: 39 loss: 6.599231142356032 theta [ 0.37860145 -0.30323354  0.10461608  0.43946992  0.43111936]\n",
            "n_inter: 40 loss: 6.4880214281932655 theta [ 0.37711684 -0.30588183  0.09754663  0.43464908  0.42647678]\n",
            "n_inter: 41 loss: 6.3828528802581825 theta [ 0.37574368 -0.30789204  0.09091241  0.43019651  0.42197467]\n",
            "n_inter: 42 loss: 6.282864955386494 theta [ 0.37447102 -0.30933046  0.08467338  0.42608048  0.41760442]\n",
            "n_inter: 43 loss: 6.187352673115359 theta [ 0.37328865 -0.310259    0.07879237  0.42227077  0.41335768]\n",
            "n_inter: 44 loss: 6.095742110541329 theta [ 0.3721871  -0.3107349   0.07323517  0.41873896  0.40922654]\n",
            "n_inter: 45 loss: 6.0075681431986085 theta [ 0.37115767 -0.31081067  0.06797053  0.41545859  0.40520353]\n",
            "n_inter: 46 loss: 5.9224548516359246 theta [ 0.37019245 -0.31053409  0.06297005  0.41240527  0.4012817 ]\n",
            "n_inter: 47 loss: 5.840098693257905 theta [ 0.36928427 -0.3099484   0.05820808  0.40955665  0.3974546 ]\n",
            "n_inter: 48 loss: 5.7602543303682285 theta [ 0.36842666 -0.30909256  0.05366153  0.40689238  0.39371632]\n",
            "n_inter: 49 loss: 5.682722884119058 theta [ 0.36761381 -0.3080015   0.04930969  0.40439404  0.39006141]\n"
          ]
        }
      ]
    },
    {
      "cell_type": "code",
      "source": [
        "slr.predict(X_test)"
      ],
      "metadata": {
        "id": "XKzEGGnLtGsI",
        "colab": {
          "base_uri": "https://localhost:8080/"
        },
        "outputId": "83f84adb-9070-4b3a-e4d6-332dcfac67b8"
      },
      "execution_count": null,
      "outputs": [
        {
          "output_type": "execute_result",
          "data": {
            "text/plain": [
              "array([0, 0, 0, 0, 0, 1, 0, 1, 1, 0, 1, 1, 1, 1, 1, 1, 0, 1, 0, 1])"
            ]
          },
          "metadata": {},
          "execution_count": 18
        }
      ]
    },
    {
      "cell_type": "markdown",
      "source": [
        "problem 6"
      ],
      "metadata": {
        "id": "md6qnMzvMcxs"
      }
    },
    {
      "cell_type": "code",
      "source": [
        "import matplotlib.pyplot as plt\n",
        "%matplotlib inline\n",
        "plt.plot(slr.loss)\n",
        "plt.plot(slr.val_loss)"
      ],
      "metadata": {
        "id": "MGQRkOLwtRCW",
        "colab": {
          "base_uri": "https://localhost:8080/",
          "height": 448
        },
        "outputId": "5b37b00b-b6bb-4202-e02b-2273b0e306cf"
      },
      "execution_count": null,
      "outputs": [
        {
          "output_type": "execute_result",
          "data": {
            "text/plain": [
              "[<matplotlib.lines.Line2D at 0x7b292296d600>]"
            ]
          },
          "metadata": {},
          "execution_count": 20
        },
        {
          "output_type": "display_data",
          "data": {
            "text/plain": [
              "<Figure size 640x480 with 1 Axes>"
            ],
            "image/png": "[encoded data removed]"
          },
          "metadata": {}
        }
      ]
    },
    {
      "cell_type": "markdown",
      "source": [
        "problem 7"
      ],
      "metadata": {
        "id": "3Hh-bCkjHjd-"
      }
    },
    {
      "cell_type": "code",
      "source": [
        "X = iris.data[:100,:2]\n",
        "y = iris.target[:100]\n",
        "(X_train, X_test, y_train, y_test) = train_test_split(X, y, test_size=0.2)\n",
        "slr = ScratchLogisticRegression(num_iter=50, lr=0.001, bias=True, verbose=True)\n",
        "slr.fit(X_train, y_train, X_test, y_test)"
      ],
      "metadata": {
        "id": "WcuubmELuBY2",
        "colab": {
          "base_uri": "https://localhost:8080/"
        },
        "outputId": "d8d83698-4f09-406b-b7ed-2161a04cbce6"
      },
      "execution_count": null,
      "outputs": [
        {
          "output_type": "stream",
          "name": "stdout",
          "text": [
            "n_inter: 0 loss: 8.18347834848424 theta [0.32331012 0.25364963 0.43706542]\n",
            "n_inter: 1 loss: 8.088145020683166 theta [0.32281844 0.25089403 0.43482212]\n",
            "n_inter: 2 loss: 7.993732052965565 theta [0.32232774 0.24814712 0.43258461]\n",
            "n_inter: 3 loss: 7.900236431031327 theta [0.32183802 0.24540898 0.43035292]\n",
            "n_inter: 4 loss: 7.807655113472617 theta [0.32134931 0.24267969 0.4281271 ]\n",
            "n_inter: 5 loss: 7.715985030741603 theta [0.32086163 0.23995935 0.4259072 ]\n",
            "n_inter: 6 loss: 7.625223084116815 theta [0.32037499 0.23724802 0.42369326]\n",
            "n_inter: 7 loss: 7.535366144669376 theta [0.3198894  0.2345458  0.42148532]\n",
            "n_inter: 8 loss: 7.446411052230353 theta [0.31940489 0.23185277 0.41928344]\n",
            "n_inter: 9 loss: 7.358354614360527 theta [0.31892147 0.22916901 0.41708766]\n",
            "n_inter: 10 loss: 7.271193605323956 theta [0.31843917 0.22649461 0.41489803]\n",
            "n_inter: 11 loss: 7.184924765066691 theta [0.31795799 0.22382966 0.4127146 ]\n",
            "n_inter: 12 loss: 7.09954479820215 theta [0.31747796 0.22117424 0.41053741]\n",
            "n_inter: 13 loss: 7.0150503730045655 theta [0.3169991  0.21852844 0.40836651]\n",
            "n_inter: 14 loss: 6.931438120412116 theta [0.31652142 0.21589234 0.40620195]\n",
            "n_inter: 15 loss: 6.84870463304123 theta [0.31604494 0.21326604 0.40404379]\n",
            "n_inter: 16 loss: 6.766846464213731 theta [0.31556968 0.21064963 0.40189206]\n",
            "n_inter: 17 loss: 6.685860126998443 theta [0.31509566 0.20804319 0.39974683]\n",
            "n_inter: 18 loss: 6.605742093268928 theta [0.3146229  0.20544682 0.39760813]\n",
            "n_inter: 19 loss: 6.526488792779073 theta [0.31415142 0.2028606  0.39547602]\n",
            "n_inter: 20 loss: 6.448096612258251 theta [0.31368123 0.20028462 0.39335055]\n",
            "n_inter: 21 loss: 6.3705618945278175 theta [0.31321235 0.19771898 0.39123177]\n",
            "n_inter: 22 loss: 6.293880937640727 theta [0.31274481 0.19516376 0.38911973]\n",
            "n_inter: 23 loss: 6.218049994046037 theta [0.31227862 0.19261906 0.38701448]\n",
            "n_inter: 24 loss: 6.143065269780141 theta [0.3118138  0.19008496 0.38491607]\n",
            "n_inter: 25 loss: 6.068922923686534 theta [0.31135037 0.18756157 0.38282455]\n",
            "n_inter: 26 loss: 5.995619066665908 theta [0.31088835 0.18504896 0.38073997]\n",
            "n_inter: 27 loss: 5.923149760958442 theta [0.31042776 0.18254723 0.37866238]\n",
            "n_inter: 28 loss: 5.8515110194600535 theta [0.30996861 0.18005647 0.37659184]\n",
            "n_inter: 29 loss: 5.78069880507447 theta [0.30951093 0.17757677 0.37452839]\n",
            "n_inter: 30 loss: 5.710709030102867 theta [0.30905474 0.17510823 0.37247208]\n",
            "n_inter: 31 loss: 5.641537555672874 theta [0.30860005 0.17265093 0.37042297]\n",
            "n_inter: 32 loss: 5.573180191208682 theta [0.30814689 0.17020497 0.3683811 ]\n",
            "n_inter: 33 loss: 5.505632693943987 theta [0.30769527 0.16777043 0.36634652]\n",
            "n_inter: 34 loss: 5.4388907684794425 theta [0.30724521 0.1653474  0.36431929]\n",
            "n_inter: 35 loss: 5.372950066386252 theta [0.30679673 0.16293598 0.36229946]\n",
            "n_inter: 36 loss: 5.3078061858575305 theta [0.30634985 0.16053624 0.36028706]\n",
            "n_inter: 37 loss: 5.243454671408948 theta [0.30590458 0.15814829 0.35828216]\n",
            "n_inter: 38 loss: 5.179891013630158 theta [0.30546096 0.15577221 0.35628481]\n",
            "n_inter: 39 loss: 5.117110648988433 theta [0.30501899 0.15340808 0.35429504]\n",
            "n_inter: 40 loss: 5.055108959685867 theta [0.30457869 0.151056   0.35231291]\n",
            "n_inter: 41 loss: 4.993881273571407 theta [0.30414008 0.14871605 0.35033846]\n",
            "n_inter: 42 loss: 4.9334228641089535 theta [0.30370319 0.1463883  0.34837175]\n",
            "n_inter: 43 loss: 4.873728950402616 theta [0.30326802 0.14407286 0.34641282]\n",
            "n_inter: 44 loss: 4.814794697280162 theta [0.3028346  0.1417698  0.34446172]\n",
            "n_inter: 45 loss: 4.756615215435609 theta [0.30240295 0.1394792  0.34251849]\n",
            "n_inter: 46 loss: 4.699185561631779 theta [0.30197308 0.13720115 0.34058318]\n",
            "n_inter: 47 loss: 4.6425007389635535 theta [0.301545   0.13493572 0.33865583]\n",
            "n_inter: 48 loss: 4.58655569718246 theta [0.30111875 0.132683   0.33673648]\n",
            "n_inter: 49 loss: 4.531345333083102 theta [0.30069432 0.13044306 0.33482519]\n"
          ]
        }
      ]
    },
    {
      "cell_type": "code",
      "source": [
        "from matplotlib.colors import ListedColormap"
      ],
      "metadata": {
        "id": "xDLZ-PMAGYup"
      },
      "execution_count": null,
      "outputs": []
    },
    {
      "cell_type": "code",
      "source": [
        "def decision_region(X, y, slr):\n",
        "    mesh_f0, mesh_f1 = np.meshgrid(\n",
        "         np.arange(np.min(X[:,0]), np.max(X[:,0]), 0.01),\n",
        "         np.arange(np.min(X[:,1]), np.max(X[:,1]), 0.01)\n",
        "    )\n",
        "    mesh = np.c_[np.ravel(mesh_f0), np.ravel(mesh_f1)]\n",
        "    y_pred = slr.predict(mesh).reshape(mesh_f0.shape)\n",
        "    plt.title('decision region')\n",
        "    plt.xlabel('feature0')\n",
        "    plt.ylabel('feature1')\n",
        "\n",
        "    plt.contourf(mesh_f0, mesh_f1, y_pred,cmap=ListedColormap(['pink', 'skyblue']))\n",
        "    plt.contour(mesh_f0, mesh_f1, y_pred,colors='red')\n",
        "    plt.scatter(X[y==0][:, 0], X[y==0][:, 1],label='0')\n",
        "    plt.scatter(X[y==1][:, 0], X[y==1][:, 1],label='1')\n",
        "    plt.legend()\n",
        "    plt.show()"
      ],
      "metadata": {
        "id": "Jaeh2fzVGcqL"
      },
      "execution_count": null,
      "outputs": []
    },
    {
      "cell_type": "code",
      "source": [
        "decision_region(X, y, slr)"
      ],
      "metadata": {
        "colab": {
          "base_uri": "https://localhost:8080/",
          "height": 472
        },
        "id": "ACeAU-JnGmB8",
        "outputId": "e5c39519-97db-49ff-ddc3-8bb117910c95"
      },
      "execution_count": null,
      "outputs": [
        {
          "output_type": "display_data",
          "data": {
            "text/plain": [
              "<Figure size 640x480 with 1 Axes>"
            ],
            "image/png": "[encoded data removed]"
          },
          "metadata": {}
        }
      ]
    },
    {
      "cell_type": "markdown",
      "source": [
        "problem 8"
      ],
      "metadata": {
        "id": "2yoq3sZzEdib"
      }
    },
    {
      "cell_type": "code",
      "source": [
        "import numpy as np\n",
        "import pandas as pd\n",
        "from sklearn.datasets import load_iris\n",
        "from sklearn.model_selection import train_test_split\n",
        "from sklearn.linear_model import LogisticRegression\n",
        "import pickle\n",
        "\n",
        "# Load the Iris dataset\n",
        "iris = load_iris()\n",
        "X = iris.data[:100, :]\n",
        "y = iris.target[:100]\n",
        "\n",
        "# Split the data into training and testing sets\n",
        "X_train, X_test, y_train, y_test = train_test_split(X, y, test_size=0.2)\n",
        "\n",
        "# Define and train a Logistic Regression model\n",
        "model_scratch = LogisticRegression()\n",
        "model_scratch.fit(X_train, y_train)\n",
        "\n",
        "# Save the model's weights using Pickle\n",
        "with open('model_weights.pkl', 'wb') as f:\n",
        "    pickle.dump(model_scratch.coef_, f)\n",
        "\n",
        "# Load the model's weights using Pickle\n",
        "with open('model_weights.pkl', 'rb') as f:\n",
        "    loaded_weights_pickle = pickle.load(f)\n",
        "\n",
        "print(\"Loaded weights using pickle:\", loaded_weights_pickle)\n",
        "\n",
        "# Save the model's weights using NumPy's np.savez\n",
        "np.savez('model_weights.npz', weights=model_scratch.coef_)\n",
        "\n",
        "# Load the model's weights using NumPy's np.savez\n",
        "loaded_data = np.load('model_weights.npz')\n",
        "loaded_weights_npz = loaded_data['weights']\n",
        "\n",
        "print(\"Loaded weights using np.savez:\", loaded_weights_npz)"
      ],
      "metadata": {
        "colab": {
          "base_uri": "https://localhost:8080/"
        },
        "id": "ndoB8A6RPXM6",
        "outputId": "da92b94b-f97d-4020-b49d-c4047f92e10c"
      },
      "execution_count": null,
      "outputs": [
        {
          "output_type": "stream",
          "name": "stdout",
          "text": [
            "Loaded weights using pickle: [[ 0.41555093 -0.90640999  2.17270216  0.89439672]]\n",
            "Loaded weights using np.savez: [[ 0.41555093 -0.90640999  2.17270216  0.89439672]]\n"
          ]
        }
      ]
    }
  ]
}